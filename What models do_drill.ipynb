{
 "cells": [
  {
   "cell_type": "markdown",
   "metadata": {},
   "source": [
    "There are many features can be considered to predicit the result of the coin toss:\n",
    "1. The horizontal and vertical distance between the hand who tossed the coin and the location of the place the coinj tossed at.\n",
    "2. the fairness of the coin (check if the coin has no damage and result in equal chances\n",
    "3. the level of the toss location, is it flat or sloppy? is it smoth or rough?\n",
    "4. friction between the coin and the tos location\n",
    "5. the power used to toss the coin\n",
    "6. the technique used to toss the coin\n",
    "etc...\n",
    "\n",
    "Adding many features might not add a lot of accuracy to the model and will increase the complexity of the computation. Simplifying the model will be the best option to reduce the required computation without lossing most of the accuracy. In addition, using many features might lead to overfitting."
   ]
  },
  {
   "cell_type": "markdown",
   "metadata": {},
   "source": [
    "The features Netflix use in thier recomendations engine are:\n",
    "1. User View History\n",
    "2. User Previous Movie Ratings\n",
    "3. Other members with similar taste other preferences.\n",
    "4. Movie information such as henre, category, actors, release date , etc\n",
    "5. User watch time\n",
    "6. Type of device used to watch\n",
    "7. User watch Time\n",
    "\n",
    "I can recommend other features could be helpful such as:\n",
    "1. User prefered actors\n",
    "2. Movies overall ratings (show the movies most users are satisfied with)\n",
    "3. User previous search on Netflix\n",
    "4. Age and gender could help in choosing movies that users with specific gender or age prefer.\n"
   ]
  }
 ],
 "metadata": {
  "kernelspec": {
   "display_name": "Python 3",
   "language": "python",
   "name": "python3"
  },
  "language_info": {
   "codemirror_mode": {
    "name": "ipython",
    "version": 3
   },
   "file_extension": ".py",
   "mimetype": "text/x-python",
   "name": "python",
   "nbconvert_exporter": "python",
   "pygments_lexer": "ipython3",
   "version": "3.7.3"
  }
 },
 "nbformat": 4,
 "nbformat_minor": 2
}
